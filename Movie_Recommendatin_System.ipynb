{
  "nbformat": 4,
  "nbformat_minor": 0,
  "metadata": {
    "colab": {
      "name": "Movie Recommendatin System.ipynb",
      "provenance": [],
      "collapsed_sections": [],
      "toc_visible": true,
      "mount_file_id": "1sLDtEHlxCM-OLYAKQ0dlaUceDCs2Zgnt",
      "authorship_tag": "ABX9TyOBVq+1ZluJ330h8I24YSk+",
      "include_colab_link": true
    },
    "kernelspec": {
      "name": "python3",
      "display_name": "Python 3"
    }
  },
  "cells": [
    {
      "cell_type": "markdown",
      "metadata": {
        "id": "view-in-github",
        "colab_type": "text"
      },
      "source": [
        "<a href=\"https://colab.research.google.com/github/aakanksha-1399/Movie-Analysis/blob/master/Movie_Recommendatin_System.ipynb\" target=\"_parent\"><img src=\"https://colab.research.google.com/assets/colab-badge.svg\" alt=\"Open In Colab\"/></a>"
      ]
    },
    {
      "cell_type": "markdown",
      "metadata": {
        "id": "Ep8_SpuBgsXf",
        "colab_type": "text"
      },
      "source": [
        "#Movie Recommendation System"
      ]
    },
    {
      "cell_type": "code",
      "metadata": {
        "id": "aw2Ui-HtnOoY",
        "colab_type": "code",
        "colab": {
          "base_uri": "https://localhost:8080/",
          "height": 34
        },
        "outputId": "85d9e094-f066-48b6-fff4-53cf5d04cdec"
      },
      "source": [
        "from google.colab import drive\n",
        "drive.mount('/content/drive') \n"
      ],
      "execution_count": 1,
      "outputs": [
        {
          "output_type": "stream",
          "text": [
            "Drive already mounted at /content/drive; to attempt to forcibly remount, call drive.mount(\"/content/drive\", force_remount=True).\n"
          ],
          "name": "stdout"
        }
      ]
    },
    {
      "cell_type": "markdown",
      "metadata": {
        "id": "Ai-kOSzhyT4a",
        "colab_type": "text"
      },
      "source": [
        "#Cleaning of Data\n"
      ]
    },
    {
      "cell_type": "code",
      "metadata": {
        "id": "NReuJDOPm-zv",
        "colab_type": "code",
        "colab": {}
      },
      "source": [
        "import pandas as pd\n",
        "import numpy as np"
      ],
      "execution_count": null,
      "outputs": []
    },
    {
      "cell_type": "code",
      "metadata": {
        "id": "nAa2phBIoagx",
        "colab_type": "code",
        "colab": {
          "base_uri": "https://localhost:8080/",
          "height": 452
        },
        "outputId": "64b51b52-bf45-491f-b778-2389a3d0315a"
      },
      "source": [
        "movies = pd.read_excel('/content/drive/My Drive/Movie_Recommendation System/RAW.xlsx')\n",
        "#with pd.option_context('display.max_rows', None, 'display.max_columns', None):  # more options can be specified also\n",
        "#    print(movies)\n",
        "movies.head(16750)"
      ],
      "execution_count": null,
      "outputs": [
        {
          "output_type": "execute_result",
          "data": {
            "text/html": [
              "<div>\n",
              "<style scoped>\n",
              "    .dataframe tbody tr th:only-of-type {\n",
              "        vertical-align: middle;\n",
              "    }\n",
              "\n",
              "    .dataframe tbody tr th {\n",
              "        vertical-align: top;\n",
              "    }\n",
              "\n",
              "    .dataframe thead th {\n",
              "        text-align: right;\n",
              "    }\n",
              "</style>\n",
              "<table border=\"1\" class=\"dataframe\">\n",
              "  <thead>\n",
              "    <tr style=\"text-align: right;\">\n",
              "      <th></th>\n",
              "      <th>Sr.No</th>\n",
              "      <th>Title</th>\n",
              "      <th>Year</th>\n",
              "      <th>Age</th>\n",
              "      <th>IMDb</th>\n",
              "      <th>Directors</th>\n",
              "      <th>Genres</th>\n",
              "      <th>Language</th>\n",
              "      <th>Runtime</th>\n",
              "    </tr>\n",
              "  </thead>\n",
              "  <tbody>\n",
              "    <tr>\n",
              "      <th>0</th>\n",
              "      <td>1</td>\n",
              "      <td>Inception</td>\n",
              "      <td>2010</td>\n",
              "      <td>13+</td>\n",
              "      <td>8.8</td>\n",
              "      <td>Christopher Nolan</td>\n",
              "      <td>Action,Adventure,Sci-Fi,Thriller</td>\n",
              "      <td>English,Japanese,French</td>\n",
              "      <td>148.0</td>\n",
              "    </tr>\n",
              "    <tr>\n",
              "      <th>1</th>\n",
              "      <td>2</td>\n",
              "      <td>The Matrix</td>\n",
              "      <td>1999</td>\n",
              "      <td>18+</td>\n",
              "      <td>8.7</td>\n",
              "      <td>Lana Wachowski,Lilly Wachowski</td>\n",
              "      <td>Action,Sci-Fi</td>\n",
              "      <td>English</td>\n",
              "      <td>136.0</td>\n",
              "    </tr>\n",
              "    <tr>\n",
              "      <th>2</th>\n",
              "      <td>3</td>\n",
              "      <td>Avengers: Infinity War</td>\n",
              "      <td>2018</td>\n",
              "      <td>13+</td>\n",
              "      <td>8.5</td>\n",
              "      <td>Anthony Russo,Joe Russo</td>\n",
              "      <td>Action,Adventure,Sci-Fi</td>\n",
              "      <td>English</td>\n",
              "      <td>149.0</td>\n",
              "    </tr>\n",
              "    <tr>\n",
              "      <th>3</th>\n",
              "      <td>4</td>\n",
              "      <td>Back to the Future</td>\n",
              "      <td>1985</td>\n",
              "      <td>7+</td>\n",
              "      <td>8.5</td>\n",
              "      <td>Robert Zemeckis</td>\n",
              "      <td>Adventure,Comedy,Sci-Fi</td>\n",
              "      <td>English</td>\n",
              "      <td>116.0</td>\n",
              "    </tr>\n",
              "    <tr>\n",
              "      <th>4</th>\n",
              "      <td>5</td>\n",
              "      <td>The Good, the Bad and the Ugly</td>\n",
              "      <td>1966</td>\n",
              "      <td>18+</td>\n",
              "      <td>8.8</td>\n",
              "      <td>Sergio Leone</td>\n",
              "      <td>Western</td>\n",
              "      <td>Italian</td>\n",
              "      <td>161.0</td>\n",
              "    </tr>\n",
              "    <tr>\n",
              "      <th>...</th>\n",
              "      <td>...</td>\n",
              "      <td>...</td>\n",
              "      <td>...</td>\n",
              "      <td>...</td>\n",
              "      <td>...</td>\n",
              "      <td>...</td>\n",
              "      <td>...</td>\n",
              "      <td>...</td>\n",
              "      <td>...</td>\n",
              "    </tr>\n",
              "    <tr>\n",
              "      <th>16739</th>\n",
              "      <td>16740</td>\n",
              "      <td>The Ghosts of Buxley Hall</td>\n",
              "      <td>1980</td>\n",
              "      <td>NaN</td>\n",
              "      <td>6.2</td>\n",
              "      <td>Bruce Bilson</td>\n",
              "      <td>Comedy,Family,Fantasy,Horror</td>\n",
              "      <td>English</td>\n",
              "      <td>120.0</td>\n",
              "    </tr>\n",
              "    <tr>\n",
              "      <th>16740</th>\n",
              "      <td>16741</td>\n",
              "      <td>The Poof Point</td>\n",
              "      <td>2001</td>\n",
              "      <td>7+</td>\n",
              "      <td>4.7</td>\n",
              "      <td>Neal Israel</td>\n",
              "      <td>Comedy,Family,Sci-Fi</td>\n",
              "      <td>English</td>\n",
              "      <td>90.0</td>\n",
              "    </tr>\n",
              "    <tr>\n",
              "      <th>16741</th>\n",
              "      <td>16742</td>\n",
              "      <td>Sharks of Lost Island</td>\n",
              "      <td>2013</td>\n",
              "      <td>NaN</td>\n",
              "      <td>5.7</td>\n",
              "      <td>Neil Gelinas</td>\n",
              "      <td>Documentary</td>\n",
              "      <td>English</td>\n",
              "      <td>NaN</td>\n",
              "    </tr>\n",
              "    <tr>\n",
              "      <th>16742</th>\n",
              "      <td>16743</td>\n",
              "      <td>Man Among Cheetahs</td>\n",
              "      <td>2017</td>\n",
              "      <td>NaN</td>\n",
              "      <td>6.6</td>\n",
              "      <td>Richard Slater-Jones</td>\n",
              "      <td>Documentary</td>\n",
              "      <td>English</td>\n",
              "      <td>NaN</td>\n",
              "    </tr>\n",
              "    <tr>\n",
              "      <th>16743</th>\n",
              "      <td>16744</td>\n",
              "      <td>In Beaver Valley</td>\n",
              "      <td>1950</td>\n",
              "      <td>NaN</td>\n",
              "      <td>NaN</td>\n",
              "      <td>James Algar</td>\n",
              "      <td>Documentary,Family</td>\n",
              "      <td>English</td>\n",
              "      <td>32.0</td>\n",
              "    </tr>\n",
              "  </tbody>\n",
              "</table>\n",
              "<p>16744 rows × 9 columns</p>\n",
              "</div>"
            ],
            "text/plain": [
              "       Sr.No                           Title  ...                 Language Runtime\n",
              "0          1                       Inception  ...  English,Japanese,French   148.0\n",
              "1          2                      The Matrix  ...                  English   136.0\n",
              "2          3          Avengers: Infinity War  ...                  English   149.0\n",
              "3          4              Back to the Future  ...                  English   116.0\n",
              "4          5  The Good, the Bad and the Ugly  ...                  Italian   161.0\n",
              "...      ...                             ...  ...                      ...     ...\n",
              "16739  16740       The Ghosts of Buxley Hall  ...                  English   120.0\n",
              "16740  16741                  The Poof Point  ...                  English    90.0\n",
              "16741  16742           Sharks of Lost Island  ...                  English     NaN\n",
              "16742  16743              Man Among Cheetahs  ...                  English     NaN\n",
              "16743  16744                In Beaver Valley  ...                  English    32.0\n",
              "\n",
              "[16744 rows x 9 columns]"
            ]
          },
          "metadata": {
            "tags": []
          },
          "execution_count": 12
        }
      ]
    },
    {
      "cell_type": "code",
      "metadata": {
        "id": "rM2FItxkqbGU",
        "colab_type": "code",
        "colab": {
          "base_uri": "https://localhost:8080/",
          "height": 420
        },
        "outputId": "5bfa1afd-8a48-4347-dc0b-055e644e115d"
      },
      "source": [
        "print (movies['Title'])\n",
        "print (movies['Title'].isnull())"
      ],
      "execution_count": null,
      "outputs": [
        {
          "output_type": "stream",
          "text": [
            "0                             Inception\n",
            "1                            The Matrix\n",
            "2                Avengers: Infinity War\n",
            "3                    Back to the Future\n",
            "4        The Good, the Bad and the Ugly\n",
            "                      ...              \n",
            "16739         The Ghosts of Buxley Hall\n",
            "16740                    The Poof Point\n",
            "16741             Sharks of Lost Island\n",
            "16742                Man Among Cheetahs\n",
            "16743                  In Beaver Valley\n",
            "Name: Title, Length: 16744, dtype: object\n",
            "0        False\n",
            "1        False\n",
            "2        False\n",
            "3        False\n",
            "4        False\n",
            "         ...  \n",
            "16739    False\n",
            "16740    False\n",
            "16741    False\n",
            "16742    False\n",
            "16743    False\n",
            "Name: Title, Length: 16744, dtype: bool\n"
          ],
          "name": "stdout"
        }
      ]
    },
    {
      "cell_type": "code",
      "metadata": {
        "id": "sgp0npD-6dIk",
        "colab_type": "code",
        "colab": {
          "base_uri": "https://localhost:8080/",
          "height": 420
        },
        "outputId": "6b85db66-f265-4fbe-e86a-a66b28ca6bca"
      },
      "source": [
        "missing_values = [\"n/a\", \"na\", \"--\"]\n",
        "movies =  pd.read_excel(\"/content/drive/My Drive/Movie_Recommendation System/RAW.xlsx\", na_values = missing_values)\n",
        "print (movies['Title'])\n",
        "print (movies['Title'].isnull())"
      ],
      "execution_count": null,
      "outputs": [
        {
          "output_type": "stream",
          "text": [
            "0                             Inception\n",
            "1                            The Matrix\n",
            "2                Avengers: Infinity War\n",
            "3                    Back to the Future\n",
            "4        The Good, the Bad and the Ugly\n",
            "                      ...              \n",
            "16739         The Ghosts of Buxley Hall\n",
            "16740                    The Poof Point\n",
            "16741             Sharks of Lost Island\n",
            "16742                Man Among Cheetahs\n",
            "16743                  In Beaver Valley\n",
            "Name: Title, Length: 16744, dtype: object\n",
            "0        False\n",
            "1        False\n",
            "2        False\n",
            "3        False\n",
            "4        False\n",
            "         ...  \n",
            "16739    False\n",
            "16740    False\n",
            "16741    False\n",
            "16742    False\n",
            "16743    False\n",
            "Name: Title, Length: 16744, dtype: bool\n"
          ],
          "name": "stdout"
        }
      ]
    },
    {
      "cell_type": "code",
      "metadata": {
        "id": "KMT4dYVpDzU9",
        "colab_type": "code",
        "colab": {
          "base_uri": "https://localhost:8080/",
          "height": 185
        },
        "outputId": "fcb880e4-0b39-4968-b978-c79223246d4a"
      },
      "source": [
        "print (movies.isnull().sum())"
      ],
      "execution_count": null,
      "outputs": [
        {
          "output_type": "stream",
          "text": [
            "Sr.No           0\n",
            "Title           0\n",
            "Year            0\n",
            "Age          9390\n",
            "IMDb          571\n",
            "Directors     726\n",
            "Genres        275\n",
            "Language      599\n",
            "Runtime       592\n",
            "dtype: int64\n"
          ],
          "name": "stdout"
        }
      ]
    },
    {
      "cell_type": "code",
      "metadata": {
        "id": "x6NnDbJwNyiE",
        "colab_type": "code",
        "colab": {
          "base_uri": "https://localhost:8080/",
          "height": 252
        },
        "outputId": "675052de-de10-441e-9d08-8643ce5bea97"
      },
      "source": [
        "#To delete values null in the column genres\n",
        "movies=movies[~movies['Genres'].isnull()]\n",
        "print(movies)"
      ],
      "execution_count": null,
      "outputs": [
        {
          "output_type": "stream",
          "text": [
            "       Sr.No                           Title  ...                 Language Runtime\n",
            "0          1                       Inception  ...  English,Japanese,French   148.0\n",
            "1          2                      The Matrix  ...                  English   136.0\n",
            "2          3          Avengers: Infinity War  ...                  English   149.0\n",
            "3          4              Back to the Future  ...                  English   116.0\n",
            "4          5  The Good, the Bad and the Ugly  ...                  Italian   161.0\n",
            "...      ...                             ...  ...                      ...     ...\n",
            "16739  16740       The Ghosts of Buxley Hall  ...                  English   120.0\n",
            "16740  16741                  The Poof Point  ...                  English    90.0\n",
            "16741  16742           Sharks of Lost Island  ...                  English     NaN\n",
            "16742  16743              Man Among Cheetahs  ...                  English     NaN\n",
            "16743  16744                In Beaver Valley  ...                  English    32.0\n",
            "\n",
            "[16469 rows x 9 columns]\n"
          ],
          "name": "stdout"
        }
      ]
    },
    {
      "cell_type": "code",
      "metadata": {
        "id": "UZoXEMo4T-ez",
        "colab_type": "code",
        "colab": {
          "base_uri": "https://localhost:8080/",
          "height": 34
        },
        "outputId": "170271bc-a350-46f8-bc0b-740881e44cf5"
      },
      "source": [
        "print(movies.shape)"
      ],
      "execution_count": null,
      "outputs": [
        {
          "output_type": "stream",
          "text": [
            "(16469, 9)\n"
          ],
          "name": "stdout"
        }
      ]
    },
    {
      "cell_type": "code",
      "metadata": {
        "id": "b5xbvw6jUVlO",
        "colab_type": "code",
        "colab": {
          "base_uri": "https://localhost:8080/",
          "height": 185
        },
        "outputId": "5a23031f-a6cd-466f-cf98-a69dfaf45973"
      },
      "source": [
        "print (movies.isnull().sum())"
      ],
      "execution_count": null,
      "outputs": [
        {
          "output_type": "stream",
          "text": [
            "Sr.No           0\n",
            "Title           0\n",
            "Year            0\n",
            "Age          9145\n",
            "IMDb          397\n",
            "Directors     480\n",
            "Genres          0\n",
            "Language      348\n",
            "Runtime       353\n",
            "dtype: int64\n"
          ],
          "name": "stdout"
        }
      ]
    },
    {
      "cell_type": "code",
      "metadata": {
        "id": "NgHp_Wg9U9Uj",
        "colab_type": "code",
        "colab": {
          "base_uri": "https://localhost:8080/",
          "height": 185
        },
        "outputId": "03686ac9-7ca4-4db6-9d43-81f42674b782"
      },
      "source": [
        "#To remove all and replace it with 0\n",
        "movies =movies.replace(to_replace=\"all\",value=\"0\")\n",
        "#movies =movies.replace(to_replace=\" \",value=\"0\")\n",
        "print (movies.isnull().sum())\n",
        "#To replace null value with 0\n",
        "movies[\"Age\"] = movies[\"Age\"].fillna(0)"
      ],
      "execution_count": null,
      "outputs": [
        {
          "output_type": "stream",
          "text": [
            "Sr.No          0\n",
            "Title          0\n",
            "Year           0\n",
            "Age            0\n",
            "IMDb         397\n",
            "Directors    480\n",
            "Genres         0\n",
            "Language     348\n",
            "Runtime      353\n",
            "dtype: int64\n"
          ],
          "name": "stdout"
        }
      ]
    },
    {
      "cell_type": "code",
      "metadata": {
        "id": "JrCHUUro3qv8",
        "colab_type": "code",
        "colab": {
          "base_uri": "https://localhost:8080/",
          "height": 185
        },
        "outputId": "fdd62e3d-77df-457c-a787-a6f91a00e53a"
      },
      "source": [
        "#To round the values of IMDB\n",
        "movies.IMDb = movies.IMDb.round()\n",
        "#print(movies)\n",
        "#movies.head()\n",
        "#To fill in the missing values to an average value \n",
        "movies['IMDb'].fillna(value=movies['IMDb'].mean(), inplace=True)\n",
        "print (movies.isnull().sum())"
      ],
      "execution_count": null,
      "outputs": [
        {
          "output_type": "stream",
          "text": [
            "Sr.No          0\n",
            "Title          0\n",
            "Year           0\n",
            "Age            0\n",
            "IMDb           0\n",
            "Directors    480\n",
            "Genres         0\n",
            "Language     348\n",
            "Runtime      353\n",
            "dtype: int64\n"
          ],
          "name": "stdout"
        }
      ]
    },
    {
      "cell_type": "code",
      "metadata": {
        "id": "OGKnF-pXEaj4",
        "colab_type": "code",
        "colab": {
          "base_uri": "https://localhost:8080/",
          "height": 185
        },
        "outputId": "bce2e7ec-75c3-4026-d5d9-bb4c258a02af"
      },
      "source": [
        "#null director write down: Director Not Known\n",
        "movies[\"Directors\"] = movies[\"Directors\"].fillna(\"Director Not Known\")\n",
        "print (movies.isnull().sum())"
      ],
      "execution_count": null,
      "outputs": [
        {
          "output_type": "stream",
          "text": [
            "Sr.No          0\n",
            "Title          0\n",
            "Year           0\n",
            "Age            0\n",
            "IMDb           0\n",
            "Directors      0\n",
            "Genres         0\n",
            "Language     348\n",
            "Runtime      353\n",
            "dtype: int64\n"
          ],
          "name": "stdout"
        }
      ]
    },
    {
      "cell_type": "code",
      "metadata": {
        "id": "hBuYFz3tEfLI",
        "colab_type": "code",
        "colab": {
          "base_uri": "https://localhost:8080/",
          "height": 185
        },
        "outputId": "2fa1386d-2544-4a5f-f060-7042e41e844f"
      },
      "source": [
        "#Language replace null with english\n",
        "movies[\"Language\"] = movies[\"Language\"].fillna(\"English\")\n",
        "print (movies.isnull().sum())"
      ],
      "execution_count": null,
      "outputs": [
        {
          "output_type": "stream",
          "text": [
            "Sr.No          0\n",
            "Title          0\n",
            "Year           0\n",
            "Age            0\n",
            "IMDb           0\n",
            "Directors      0\n",
            "Genres         0\n",
            "Language       0\n",
            "Runtime      353\n",
            "dtype: int64\n"
          ],
          "name": "stdout"
        }
      ]
    },
    {
      "cell_type": "code",
      "metadata": {
        "id": "l7z4eY-OEls8",
        "colab_type": "code",
        "colab": {
          "base_uri": "https://localhost:8080/",
          "height": 185
        },
        "outputId": "13646407-4b34-43c8-f6d0-97207425b10e"
      },
      "source": [
        "#Runntime average time\n",
        "movies['Runtime'].fillna(value=movies['Runtime'].mean(), inplace=True)\n",
        "print (movies.isnull().sum())"
      ],
      "execution_count": null,
      "outputs": [
        {
          "output_type": "stream",
          "text": [
            "Sr.No        0\n",
            "Title        0\n",
            "Year         0\n",
            "Age          0\n",
            "IMDb         0\n",
            "Directors    0\n",
            "Genres       0\n",
            "Language     0\n",
            "Runtime      0\n",
            "dtype: int64\n"
          ],
          "name": "stdout"
        }
      ]
    },
    {
      "cell_type": "code",
      "metadata": {
        "id": "LxYSiImLFscs",
        "colab_type": "code",
        "colab": {
          "base_uri": "https://localhost:8080/",
          "height": 121
        },
        "outputId": "0e8a64be-5748-4ce8-fd99-68887fe70fa7"
      },
      "source": [
        "pip install xlsxwriter"
      ],
      "execution_count": null,
      "outputs": [
        {
          "output_type": "stream",
          "text": [
            "Collecting xlsxwriter\n",
            "\u001b[?25l  Downloading https://files.pythonhosted.org/packages/c8/a2/e5f28b67b7d883c9a6585c0ef32b4bb002bff0292b3008f3d6d3fc7eee59/XlsxWriter-1.2.9-py2.py3-none-any.whl (141kB)\n",
            "\r\u001b[K     |██▎                             | 10kB 13.9MB/s eta 0:00:01\r\u001b[K     |████▋                           | 20kB 3.0MB/s eta 0:00:01\r\u001b[K     |███████                         | 30kB 3.8MB/s eta 0:00:01\r\u001b[K     |█████████▎                      | 40kB 3.9MB/s eta 0:00:01\r\u001b[K     |███████████▋                    | 51kB 3.4MB/s eta 0:00:01\r\u001b[K     |█████████████▉                  | 61kB 3.6MB/s eta 0:00:01\r\u001b[K     |████████████████▏               | 71kB 4.0MB/s eta 0:00:01\r\u001b[K     |██████████████████▌             | 81kB 4.3MB/s eta 0:00:01\r\u001b[K     |████████████████████▉           | 92kB 4.4MB/s eta 0:00:01\r\u001b[K     |███████████████████████▏        | 102kB 4.5MB/s eta 0:00:01\r\u001b[K     |█████████████████████████▌      | 112kB 4.5MB/s eta 0:00:01\r\u001b[K     |███████████████████████████▊    | 122kB 4.5MB/s eta 0:00:01\r\u001b[K     |██████████████████████████████  | 133kB 4.5MB/s eta 0:00:01\r\u001b[K     |████████████████████████████████| 143kB 4.5MB/s \n",
            "\u001b[?25hInstalling collected packages: xlsxwriter\n",
            "Successfully installed xlsxwriter-1.2.9\n"
          ],
          "name": "stdout"
        }
      ]
    },
    {
      "cell_type": "code",
      "metadata": {
        "id": "4yfby2eu7j7m",
        "colab_type": "code",
        "colab": {}
      },
      "source": [
        "#Clean_Movies_Data = pd.ExcelWriter('/content/drive/My Drive/Movie_Recommendation System/MOVIE RECOMMENDATION/Data1.xlsx')\n",
        "#Clean_Movies_Data.save()\n",
        "import xlsxwriter\n",
        "Clean_Movies_Data = pd.ExcelWriter('/content/drive/My Drive/Movie_Recommendation System/Clean_Movies_Data.xlsx',engine = 'xlsxwriter')\n",
        "movies.to_excel('/content/drive/My Drive/Movie_Recommendation System/Clean_Movies_Data.xlsx', sheet_name='sheet1')\n"
      ],
      "execution_count": null,
      "outputs": []
    },
    {
      "cell_type": "markdown",
      "metadata": {
        "id": "KRaxPqAXyZSI",
        "colab_type": "text"
      },
      "source": [
        "#Binning of Data\n"
      ]
    },
    {
      "cell_type": "code",
      "metadata": {
        "id": "GK43HcmcyOOg",
        "colab_type": "code",
        "colab": {
          "base_uri": "https://localhost:8080/",
          "height": 34
        },
        "outputId": "75f73795-7d48-414b-bb23-ef8bbd1fd905"
      },
      "source": [
        "from google.colab import drive\n",
        "drive.mount('/content/drive') "
      ],
      "execution_count": null,
      "outputs": [
        {
          "output_type": "stream",
          "text": [
            "Drive already mounted at /content/drive; to attempt to forcibly remount, call drive.mount(\"/content/drive\", force_remount=True).\n"
          ],
          "name": "stdout"
        }
      ]
    },
    {
      "cell_type": "code",
      "metadata": {
        "id": "JLdlNso7yrJm",
        "colab_type": "code",
        "colab": {}
      },
      "source": [
        "import pandas as pd\n",
        "import numpy as np"
      ],
      "execution_count": null,
      "outputs": []
    },
    {
      "cell_type": "code",
      "metadata": {
        "id": "F9dq3QPCEdya",
        "colab_type": "code",
        "colab": {
          "base_uri": "https://localhost:8080/",
          "height": 400
        },
        "outputId": "d57893db-49d0-47d4-aa63-7eee40433ee2"
      },
      "source": [
        "df = pd.read_excel('/content/drive/My Drive/Movie_Recommendation System/Output.xlsx')\n",
        "df.head()"
      ],
      "execution_count": null,
      "outputs": [
        {
          "output_type": "execute_result",
          "data": {
            "text/html": [
              "<div>\n",
              "<style scoped>\n",
              "    .dataframe tbody tr th:only-of-type {\n",
              "        vertical-align: middle;\n",
              "    }\n",
              "\n",
              "    .dataframe tbody tr th {\n",
              "        vertical-align: top;\n",
              "    }\n",
              "\n",
              "    .dataframe thead th {\n",
              "        text-align: right;\n",
              "    }\n",
              "</style>\n",
              "<table border=\"1\" class=\"dataframe\">\n",
              "  <thead>\n",
              "    <tr style=\"text-align: right;\">\n",
              "      <th></th>\n",
              "      <th>Sr.No</th>\n",
              "      <th>Title</th>\n",
              "      <th>Year</th>\n",
              "      <th>Age</th>\n",
              "      <th>IMDb</th>\n",
              "      <th>Directors</th>\n",
              "      <th>Genre 1</th>\n",
              "      <th>Genre 2</th>\n",
              "      <th>Genre 3</th>\n",
              "      <th>Genre 4</th>\n",
              "      <th>Genre 5</th>\n",
              "      <th>Genres 6</th>\n",
              "      <th>Genre 7</th>\n",
              "      <th>Genre 8</th>\n",
              "      <th>Genre 9</th>\n",
              "      <th>Language</th>\n",
              "      <th>Runtime</th>\n",
              "    </tr>\n",
              "  </thead>\n",
              "  <tbody>\n",
              "    <tr>\n",
              "      <th>0</th>\n",
              "      <td>1</td>\n",
              "      <td>Inception</td>\n",
              "      <td>2010</td>\n",
              "      <td>13</td>\n",
              "      <td>9.0</td>\n",
              "      <td>Christopher Nolan</td>\n",
              "      <td>Action</td>\n",
              "      <td>Adventure</td>\n",
              "      <td>Sci-Fi</td>\n",
              "      <td>Thriller</td>\n",
              "      <td>NaN</td>\n",
              "      <td>NaN</td>\n",
              "      <td>NaN</td>\n",
              "      <td>NaN</td>\n",
              "      <td>NaN</td>\n",
              "      <td>English,Japanese,French</td>\n",
              "      <td>148.0</td>\n",
              "    </tr>\n",
              "    <tr>\n",
              "      <th>1</th>\n",
              "      <td>2</td>\n",
              "      <td>The Matrix</td>\n",
              "      <td>1999</td>\n",
              "      <td>18</td>\n",
              "      <td>9.0</td>\n",
              "      <td>Lana Wachowski,Lilly Wachowski</td>\n",
              "      <td>Action</td>\n",
              "      <td>Sci-Fi</td>\n",
              "      <td>NaN</td>\n",
              "      <td>NaN</td>\n",
              "      <td>NaN</td>\n",
              "      <td>NaN</td>\n",
              "      <td>NaN</td>\n",
              "      <td>NaN</td>\n",
              "      <td>NaN</td>\n",
              "      <td>English</td>\n",
              "      <td>136.0</td>\n",
              "    </tr>\n",
              "    <tr>\n",
              "      <th>2</th>\n",
              "      <td>3</td>\n",
              "      <td>Avengers: Infinity War</td>\n",
              "      <td>2018</td>\n",
              "      <td>13</td>\n",
              "      <td>8.0</td>\n",
              "      <td>Anthony Russo,Joe Russo</td>\n",
              "      <td>Action</td>\n",
              "      <td>Adventure</td>\n",
              "      <td>Sci-Fi</td>\n",
              "      <td>NaN</td>\n",
              "      <td>NaN</td>\n",
              "      <td>NaN</td>\n",
              "      <td>NaN</td>\n",
              "      <td>NaN</td>\n",
              "      <td>NaN</td>\n",
              "      <td>English</td>\n",
              "      <td>149.0</td>\n",
              "    </tr>\n",
              "    <tr>\n",
              "      <th>3</th>\n",
              "      <td>4</td>\n",
              "      <td>Back to the Future</td>\n",
              "      <td>1985</td>\n",
              "      <td>7</td>\n",
              "      <td>8.0</td>\n",
              "      <td>Robert Zemeckis</td>\n",
              "      <td>Adventure</td>\n",
              "      <td>Comedy</td>\n",
              "      <td>Sci-Fi</td>\n",
              "      <td>NaN</td>\n",
              "      <td>NaN</td>\n",
              "      <td>NaN</td>\n",
              "      <td>NaN</td>\n",
              "      <td>NaN</td>\n",
              "      <td>NaN</td>\n",
              "      <td>English</td>\n",
              "      <td>116.0</td>\n",
              "    </tr>\n",
              "    <tr>\n",
              "      <th>4</th>\n",
              "      <td>5</td>\n",
              "      <td>The Good, the Bad and the Ugly</td>\n",
              "      <td>1966</td>\n",
              "      <td>13</td>\n",
              "      <td>9.0</td>\n",
              "      <td>Sergio Leone</td>\n",
              "      <td>Western</td>\n",
              "      <td>NaN</td>\n",
              "      <td>NaN</td>\n",
              "      <td>NaN</td>\n",
              "      <td>NaN</td>\n",
              "      <td>NaN</td>\n",
              "      <td>NaN</td>\n",
              "      <td>NaN</td>\n",
              "      <td>NaN</td>\n",
              "      <td>Italian</td>\n",
              "      <td>161.0</td>\n",
              "    </tr>\n",
              "  </tbody>\n",
              "</table>\n",
              "</div>"
            ],
            "text/plain": [
              "   Sr.No                           Title  ...                 Language  Runtime\n",
              "0      1                       Inception  ...  English,Japanese,French    148.0\n",
              "1      2                      The Matrix  ...                  English    136.0\n",
              "2      3          Avengers: Infinity War  ...                  English    149.0\n",
              "3      4              Back to the Future  ...                  English    116.0\n",
              "4      5  The Good, the Bad and the Ugly  ...                  Italian    161.0\n",
              "\n",
              "[5 rows x 17 columns]"
            ]
          },
          "metadata": {
            "tags": []
          },
          "execution_count": 3
        }
      ]
    },
    {
      "cell_type": "code",
      "metadata": {
        "id": "AXR3rr6rLzmk",
        "colab_type": "code",
        "colab": {
          "base_uri": "https://localhost:8080/",
          "height": 400
        },
        "outputId": "c17bc4d3-9b28-4654-c12c-c295c56d7f76"
      },
      "source": [
        "#convert string to integer\n",
        "df['Age'] = pd.to_numeric(df['Age'])\n",
        "df.head()"
      ],
      "execution_count": null,
      "outputs": [
        {
          "output_type": "execute_result",
          "data": {
            "text/html": [
              "<div>\n",
              "<style scoped>\n",
              "    .dataframe tbody tr th:only-of-type {\n",
              "        vertical-align: middle;\n",
              "    }\n",
              "\n",
              "    .dataframe tbody tr th {\n",
              "        vertical-align: top;\n",
              "    }\n",
              "\n",
              "    .dataframe thead th {\n",
              "        text-align: right;\n",
              "    }\n",
              "</style>\n",
              "<table border=\"1\" class=\"dataframe\">\n",
              "  <thead>\n",
              "    <tr style=\"text-align: right;\">\n",
              "      <th></th>\n",
              "      <th>Sr.No</th>\n",
              "      <th>Title</th>\n",
              "      <th>Year</th>\n",
              "      <th>Age</th>\n",
              "      <th>IMDb</th>\n",
              "      <th>Directors</th>\n",
              "      <th>Genre 1</th>\n",
              "      <th>Genre 2</th>\n",
              "      <th>Genre 3</th>\n",
              "      <th>Genre 4</th>\n",
              "      <th>Genre 5</th>\n",
              "      <th>Genres 6</th>\n",
              "      <th>Genre 7</th>\n",
              "      <th>Genre 8</th>\n",
              "      <th>Genre 9</th>\n",
              "      <th>Language</th>\n",
              "      <th>Runtime</th>\n",
              "    </tr>\n",
              "  </thead>\n",
              "  <tbody>\n",
              "    <tr>\n",
              "      <th>0</th>\n",
              "      <td>1</td>\n",
              "      <td>Inception</td>\n",
              "      <td>2010</td>\n",
              "      <td>13</td>\n",
              "      <td>9.0</td>\n",
              "      <td>Christopher Nolan</td>\n",
              "      <td>Action</td>\n",
              "      <td>Adventure</td>\n",
              "      <td>Sci-Fi</td>\n",
              "      <td>Thriller</td>\n",
              "      <td>NaN</td>\n",
              "      <td>NaN</td>\n",
              "      <td>NaN</td>\n",
              "      <td>NaN</td>\n",
              "      <td>NaN</td>\n",
              "      <td>English,Japanese,French</td>\n",
              "      <td>148.0</td>\n",
              "    </tr>\n",
              "    <tr>\n",
              "      <th>1</th>\n",
              "      <td>2</td>\n",
              "      <td>The Matrix</td>\n",
              "      <td>1999</td>\n",
              "      <td>18</td>\n",
              "      <td>9.0</td>\n",
              "      <td>Lana Wachowski,Lilly Wachowski</td>\n",
              "      <td>Action</td>\n",
              "      <td>Sci-Fi</td>\n",
              "      <td>NaN</td>\n",
              "      <td>NaN</td>\n",
              "      <td>NaN</td>\n",
              "      <td>NaN</td>\n",
              "      <td>NaN</td>\n",
              "      <td>NaN</td>\n",
              "      <td>NaN</td>\n",
              "      <td>English</td>\n",
              "      <td>136.0</td>\n",
              "    </tr>\n",
              "    <tr>\n",
              "      <th>2</th>\n",
              "      <td>3</td>\n",
              "      <td>Avengers: Infinity War</td>\n",
              "      <td>2018</td>\n",
              "      <td>13</td>\n",
              "      <td>8.0</td>\n",
              "      <td>Anthony Russo,Joe Russo</td>\n",
              "      <td>Action</td>\n",
              "      <td>Adventure</td>\n",
              "      <td>Sci-Fi</td>\n",
              "      <td>NaN</td>\n",
              "      <td>NaN</td>\n",
              "      <td>NaN</td>\n",
              "      <td>NaN</td>\n",
              "      <td>NaN</td>\n",
              "      <td>NaN</td>\n",
              "      <td>English</td>\n",
              "      <td>149.0</td>\n",
              "    </tr>\n",
              "    <tr>\n",
              "      <th>3</th>\n",
              "      <td>4</td>\n",
              "      <td>Back to the Future</td>\n",
              "      <td>1985</td>\n",
              "      <td>7</td>\n",
              "      <td>8.0</td>\n",
              "      <td>Robert Zemeckis</td>\n",
              "      <td>Adventure</td>\n",
              "      <td>Comedy</td>\n",
              "      <td>Sci-Fi</td>\n",
              "      <td>NaN</td>\n",
              "      <td>NaN</td>\n",
              "      <td>NaN</td>\n",
              "      <td>NaN</td>\n",
              "      <td>NaN</td>\n",
              "      <td>NaN</td>\n",
              "      <td>English</td>\n",
              "      <td>116.0</td>\n",
              "    </tr>\n",
              "    <tr>\n",
              "      <th>4</th>\n",
              "      <td>5</td>\n",
              "      <td>The Good, the Bad and the Ugly</td>\n",
              "      <td>1966</td>\n",
              "      <td>13</td>\n",
              "      <td>9.0</td>\n",
              "      <td>Sergio Leone</td>\n",
              "      <td>Western</td>\n",
              "      <td>NaN</td>\n",
              "      <td>NaN</td>\n",
              "      <td>NaN</td>\n",
              "      <td>NaN</td>\n",
              "      <td>NaN</td>\n",
              "      <td>NaN</td>\n",
              "      <td>NaN</td>\n",
              "      <td>NaN</td>\n",
              "      <td>Italian</td>\n",
              "      <td>161.0</td>\n",
              "    </tr>\n",
              "  </tbody>\n",
              "</table>\n",
              "</div>"
            ],
            "text/plain": [
              "   Sr.No                           Title  ...                 Language  Runtime\n",
              "0      1                       Inception  ...  English,Japanese,French    148.0\n",
              "1      2                      The Matrix  ...                  English    136.0\n",
              "2      3          Avengers: Infinity War  ...                  English    149.0\n",
              "3      4              Back to the Future  ...                  English    116.0\n",
              "4      5  The Good, the Bad and the Ugly  ...                  Italian    161.0\n",
              "\n",
              "[5 rows x 17 columns]"
            ]
          },
          "metadata": {
            "tags": []
          },
          "execution_count": 4
        }
      ]
    },
    {
      "cell_type": "code",
      "metadata": {
        "id": "U2-8GS5q90gw",
        "colab_type": "code",
        "colab": {
          "base_uri": "https://localhost:8080/",
          "height": 707
        },
        "outputId": "464c0226-4680-4822-b794-cd10f6047e95"
      },
      "source": [
        "#Bining of Data\n",
        "bins = [0,7,13,18,90]\n",
        "labels = [1,2,3,4]\n",
        "df['binned'] = pd.cut(df['Age'], bins=bins, labels=labels)\n",
        "df.head(100)"
      ],
      "execution_count": null,
      "outputs": [
        {
          "output_type": "execute_result",
          "data": {
            "text/html": [
              "<div>\n",
              "<style scoped>\n",
              "    .dataframe tbody tr th:only-of-type {\n",
              "        vertical-align: middle;\n",
              "    }\n",
              "\n",
              "    .dataframe tbody tr th {\n",
              "        vertical-align: top;\n",
              "    }\n",
              "\n",
              "    .dataframe thead th {\n",
              "        text-align: right;\n",
              "    }\n",
              "</style>\n",
              "<table border=\"1\" class=\"dataframe\">\n",
              "  <thead>\n",
              "    <tr style=\"text-align: right;\">\n",
              "      <th></th>\n",
              "      <th>Sr.No</th>\n",
              "      <th>Title</th>\n",
              "      <th>Year</th>\n",
              "      <th>Age</th>\n",
              "      <th>IMDb</th>\n",
              "      <th>Directors</th>\n",
              "      <th>Genre 1</th>\n",
              "      <th>Genre 2</th>\n",
              "      <th>Genre 3</th>\n",
              "      <th>Genre 4</th>\n",
              "      <th>Genre 5</th>\n",
              "      <th>Genres 6</th>\n",
              "      <th>Genre 7</th>\n",
              "      <th>Genre 8</th>\n",
              "      <th>Genre 9</th>\n",
              "      <th>Language</th>\n",
              "      <th>Runtime</th>\n",
              "      <th>binned</th>\n",
              "    </tr>\n",
              "  </thead>\n",
              "  <tbody>\n",
              "    <tr>\n",
              "      <th>0</th>\n",
              "      <td>1</td>\n",
              "      <td>Inception</td>\n",
              "      <td>2010</td>\n",
              "      <td>13</td>\n",
              "      <td>9.0</td>\n",
              "      <td>Christopher Nolan</td>\n",
              "      <td>Action</td>\n",
              "      <td>Adventure</td>\n",
              "      <td>Sci-Fi</td>\n",
              "      <td>Thriller</td>\n",
              "      <td>NaN</td>\n",
              "      <td>NaN</td>\n",
              "      <td>NaN</td>\n",
              "      <td>NaN</td>\n",
              "      <td>NaN</td>\n",
              "      <td>English,Japanese,French</td>\n",
              "      <td>148.0</td>\n",
              "      <td>2</td>\n",
              "    </tr>\n",
              "    <tr>\n",
              "      <th>1</th>\n",
              "      <td>2</td>\n",
              "      <td>The Matrix</td>\n",
              "      <td>1999</td>\n",
              "      <td>18</td>\n",
              "      <td>9.0</td>\n",
              "      <td>Lana Wachowski,Lilly Wachowski</td>\n",
              "      <td>Action</td>\n",
              "      <td>Sci-Fi</td>\n",
              "      <td>NaN</td>\n",
              "      <td>NaN</td>\n",
              "      <td>NaN</td>\n",
              "      <td>NaN</td>\n",
              "      <td>NaN</td>\n",
              "      <td>NaN</td>\n",
              "      <td>NaN</td>\n",
              "      <td>English</td>\n",
              "      <td>136.0</td>\n",
              "      <td>3</td>\n",
              "    </tr>\n",
              "    <tr>\n",
              "      <th>2</th>\n",
              "      <td>3</td>\n",
              "      <td>Avengers: Infinity War</td>\n",
              "      <td>2018</td>\n",
              "      <td>13</td>\n",
              "      <td>8.0</td>\n",
              "      <td>Anthony Russo,Joe Russo</td>\n",
              "      <td>Action</td>\n",
              "      <td>Adventure</td>\n",
              "      <td>Sci-Fi</td>\n",
              "      <td>NaN</td>\n",
              "      <td>NaN</td>\n",
              "      <td>NaN</td>\n",
              "      <td>NaN</td>\n",
              "      <td>NaN</td>\n",
              "      <td>NaN</td>\n",
              "      <td>English</td>\n",
              "      <td>149.0</td>\n",
              "      <td>2</td>\n",
              "    </tr>\n",
              "    <tr>\n",
              "      <th>3</th>\n",
              "      <td>4</td>\n",
              "      <td>Back to the Future</td>\n",
              "      <td>1985</td>\n",
              "      <td>7</td>\n",
              "      <td>8.0</td>\n",
              "      <td>Robert Zemeckis</td>\n",
              "      <td>Adventure</td>\n",
              "      <td>Comedy</td>\n",
              "      <td>Sci-Fi</td>\n",
              "      <td>NaN</td>\n",
              "      <td>NaN</td>\n",
              "      <td>NaN</td>\n",
              "      <td>NaN</td>\n",
              "      <td>NaN</td>\n",
              "      <td>NaN</td>\n",
              "      <td>English</td>\n",
              "      <td>116.0</td>\n",
              "      <td>1</td>\n",
              "    </tr>\n",
              "    <tr>\n",
              "      <th>4</th>\n",
              "      <td>5</td>\n",
              "      <td>The Good, the Bad and the Ugly</td>\n",
              "      <td>1966</td>\n",
              "      <td>13</td>\n",
              "      <td>9.0</td>\n",
              "      <td>Sergio Leone</td>\n",
              "      <td>Western</td>\n",
              "      <td>NaN</td>\n",
              "      <td>NaN</td>\n",
              "      <td>NaN</td>\n",
              "      <td>NaN</td>\n",
              "      <td>NaN</td>\n",
              "      <td>NaN</td>\n",
              "      <td>NaN</td>\n",
              "      <td>NaN</td>\n",
              "      <td>Italian</td>\n",
              "      <td>161.0</td>\n",
              "      <td>2</td>\n",
              "    </tr>\n",
              "    <tr>\n",
              "      <th>...</th>\n",
              "      <td>...</td>\n",
              "      <td>...</td>\n",
              "      <td>...</td>\n",
              "      <td>...</td>\n",
              "      <td>...</td>\n",
              "      <td>...</td>\n",
              "      <td>...</td>\n",
              "      <td>...</td>\n",
              "      <td>...</td>\n",
              "      <td>...</td>\n",
              "      <td>...</td>\n",
              "      <td>...</td>\n",
              "      <td>...</td>\n",
              "      <td>...</td>\n",
              "      <td>...</td>\n",
              "      <td>...</td>\n",
              "      <td>...</td>\n",
              "      <td>...</td>\n",
              "    </tr>\n",
              "    <tr>\n",
              "      <th>95</th>\n",
              "      <td>96</td>\n",
              "      <td>Saving Mr. Banks</td>\n",
              "      <td>2013</td>\n",
              "      <td>13</td>\n",
              "      <td>8.0</td>\n",
              "      <td>John Lee Hancock</td>\n",
              "      <td>Biography</td>\n",
              "      <td>Comedy</td>\n",
              "      <td>Drama</td>\n",
              "      <td>NaN</td>\n",
              "      <td>NaN</td>\n",
              "      <td>NaN</td>\n",
              "      <td>NaN</td>\n",
              "      <td>NaN</td>\n",
              "      <td>NaN</td>\n",
              "      <td>English</td>\n",
              "      <td>125.0</td>\n",
              "      <td>2</td>\n",
              "    </tr>\n",
              "    <tr>\n",
              "      <th>96</th>\n",
              "      <td>97</td>\n",
              "      <td>Icarus</td>\n",
              "      <td>2017</td>\n",
              "      <td>18</td>\n",
              "      <td>8.0</td>\n",
              "      <td>Bryan Fogel</td>\n",
              "      <td>Documentary</td>\n",
              "      <td>Sport</td>\n",
              "      <td>Thriller</td>\n",
              "      <td>NaN</td>\n",
              "      <td>NaN</td>\n",
              "      <td>NaN</td>\n",
              "      <td>NaN</td>\n",
              "      <td>NaN</td>\n",
              "      <td>NaN</td>\n",
              "      <td>English,Russian</td>\n",
              "      <td>120.0</td>\n",
              "      <td>3</td>\n",
              "    </tr>\n",
              "    <tr>\n",
              "      <th>97</th>\n",
              "      <td>98</td>\n",
              "      <td>Jiro Dreams of Sushi</td>\n",
              "      <td>2011</td>\n",
              "      <td>13</td>\n",
              "      <td>8.0</td>\n",
              "      <td>David Gelb</td>\n",
              "      <td>Documentary</td>\n",
              "      <td>NaN</td>\n",
              "      <td>NaN</td>\n",
              "      <td>NaN</td>\n",
              "      <td>NaN</td>\n",
              "      <td>NaN</td>\n",
              "      <td>NaN</td>\n",
              "      <td>NaN</td>\n",
              "      <td>NaN</td>\n",
              "      <td>Japanese</td>\n",
              "      <td>81.0</td>\n",
              "      <td>2</td>\n",
              "    </tr>\n",
              "    <tr>\n",
              "      <th>98</th>\n",
              "      <td>99</td>\n",
              "      <td>Corpse Bride</td>\n",
              "      <td>2005</td>\n",
              "      <td>7</td>\n",
              "      <td>7.0</td>\n",
              "      <td>Tim Burton,Mike Johnson</td>\n",
              "      <td>Animation</td>\n",
              "      <td>Drama</td>\n",
              "      <td>Family</td>\n",
              "      <td>Fantasy</td>\n",
              "      <td>Musical</td>\n",
              "      <td>Romance</td>\n",
              "      <td>NaN</td>\n",
              "      <td>NaN</td>\n",
              "      <td>NaN</td>\n",
              "      <td>English</td>\n",
              "      <td>77.0</td>\n",
              "      <td>1</td>\n",
              "    </tr>\n",
              "    <tr>\n",
              "      <th>99</th>\n",
              "      <td>100</td>\n",
              "      <td>Jerry Maguire</td>\n",
              "      <td>1996</td>\n",
              "      <td>13</td>\n",
              "      <td>7.0</td>\n",
              "      <td>Cameron Crowe</td>\n",
              "      <td>Comedy</td>\n",
              "      <td>Drama</td>\n",
              "      <td>Romance</td>\n",
              "      <td>Sport</td>\n",
              "      <td>NaN</td>\n",
              "      <td>NaN</td>\n",
              "      <td>NaN</td>\n",
              "      <td>NaN</td>\n",
              "      <td>NaN</td>\n",
              "      <td>English,American Sign Language</td>\n",
              "      <td>139.0</td>\n",
              "      <td>2</td>\n",
              "    </tr>\n",
              "  </tbody>\n",
              "</table>\n",
              "<p>100 rows × 18 columns</p>\n",
              "</div>"
            ],
            "text/plain": [
              "    Sr.No                           Title  ...  Runtime  binned\n",
              "0       1                       Inception  ...    148.0       2\n",
              "1       2                      The Matrix  ...    136.0       3\n",
              "2       3          Avengers: Infinity War  ...    149.0       2\n",
              "3       4              Back to the Future  ...    116.0       1\n",
              "4       5  The Good, the Bad and the Ugly  ...    161.0       2\n",
              "..    ...                             ...  ...      ...     ...\n",
              "95     96                Saving Mr. Banks  ...    125.0       2\n",
              "96     97                          Icarus  ...    120.0       3\n",
              "97     98            Jiro Dreams of Sushi  ...     81.0       2\n",
              "98     99                    Corpse Bride  ...     77.0       1\n",
              "99    100                   Jerry Maguire  ...    139.0       2\n",
              "\n",
              "[100 rows x 18 columns]"
            ]
          },
          "metadata": {
            "tags": []
          },
          "execution_count": 5
        }
      ]
    },
    {
      "cell_type": "code",
      "metadata": {
        "id": "Bp-PGBlGEdRZ",
        "colab_type": "code",
        "colab": {
          "base_uri": "https://localhost:8080/",
          "height": 84
        },
        "outputId": "ff6152b8-5480-43e3-d564-b7c76dd45711"
      },
      "source": [
        "#TO find all the genres available\n",
        "column_values = df[[\"Genre 1\",\"Genre 2\",\"Genre 3\",\"Genre 4\",\"Genre 5\",\"Genres 6\",\"Genre 7\",\"Genre 8\",\"Genre 9\"]].values.ravel()\n",
        "unique_values =  pd.unique(column_values)\n",
        "print(unique_values)"
      ],
      "execution_count": null,
      "outputs": [
        {
          "output_type": "stream",
          "text": [
            "['Action' 'Adventure' 'Sci-Fi' 'Thriller' nan 'Comedy' 'Western'\n",
            " 'Animation' 'Family' 'Biography' 'Drama' 'Music' 'War' 'Crime' 'Fantasy'\n",
            " 'Romance' 'History' 'Mystery' 'Horror' 'Sport' 'Documentary' 'Musical'\n",
            " 'News' 'Short' 'Reality-TV' 'Talk-Show' 'Game-Show' 'Film-Noir']\n"
          ],
          "name": "stdout"
        }
      ]
    },
    {
      "cell_type": "code",
      "metadata": {
        "id": "wtEIVJ1rF2PK",
        "colab_type": "code",
        "colab": {}
      },
      "source": [
        "df.rename(columns={'Genres 6':'Genre 6'}, inplace=True)"
      ],
      "execution_count": null,
      "outputs": []
    },
    {
      "cell_type": "code",
      "metadata": {
        "id": "_z69s35jUMTE",
        "colab_type": "code",
        "colab": {
          "base_uri": "https://localhost:8080/",
          "height": 314
        },
        "outputId": "edfd6a45-fa49-4f0a-eed7-75680993f326"
      },
      "source": [
        "#histogram for age\n",
        "df.hist(column='Age')"
      ],
      "execution_count": null,
      "outputs": [
        {
          "output_type": "execute_result",
          "data": {
            "text/plain": [
              "array([[<matplotlib.axes._subplots.AxesSubplot object at 0x7f83110ddcc0>]],\n",
              "      dtype=object)"
            ]
          },
          "metadata": {
            "tags": []
          },
          "execution_count": 11
        },
        {
          "output_type": "display_data",
          "data": {
            "image/png": "[encoded data removed]",
            "text/plain": [
              "<Figure size 432x288 with 1 Axes>"
            ]
          },
          "metadata": {
            "tags": [],
            "needs_background": "light"
          }
        }
      ]
    },
    {
      "cell_type": "code",
      "metadata": {
        "id": "DK_A62h7GjrY",
        "colab_type": "code",
        "colab": {}
      },
      "source": [
        "#To categorise movies on basis of their genres"
      ],
      "execution_count": null,
      "outputs": []
    },
    {
      "cell_type": "code",
      "metadata": {
        "id": "vV4e96HJmsa_",
        "colab_type": "code",
        "colab": {
          "base_uri": "https://localhost:8080/",
          "height": 121
        },
        "outputId": "f242f788-f968-455f-f00a-830c80a917de"
      },
      "source": [
        "pip install xlsxwriter"
      ],
      "execution_count": null,
      "outputs": [
        {
          "output_type": "stream",
          "text": [
            "Collecting xlsxwriter\n",
            "\u001b[?25l  Downloading https://files.pythonhosted.org/packages/2b/98/17875723b6814fc4d0fc03f0997ee00de2dbd78cf195e2ec3f2c9c789d40/XlsxWriter-1.3.3-py2.py3-none-any.whl (144kB)\n",
            "\u001b[K     |████████████████████████████████| 153kB 3.4MB/s \n",
            "\u001b[?25hInstalling collected packages: xlsxwriter\n",
            "Successfully installed xlsxwriter-1.3.3\n"
          ],
          "name": "stdout"
        }
      ]
    },
    {
      "cell_type": "code",
      "metadata": {
        "id": "_95C36EQlXdg",
        "colab_type": "code",
        "colab": {}
      },
      "source": [
        "import xlsxwriter\n",
        "Binned_Movies_Data = pd.ExcelWriter('/content/drive/My Drive/Movie_Recommendation System/Binned_Movies_Data.xlsx',engine = 'xlsxwriter')\n",
        "df.to_excel('/content/drive/My Drive/Movie_Recommendation System/Binned_Movies_Data.xlsx', sheet_name='sheet1')"
      ],
      "execution_count": null,
      "outputs": []
    },
    {
      "cell_type": "markdown",
      "metadata": {
        "id": "mFBO6uAHfoMb",
        "colab_type": "text"
      },
      "source": [
        "Tableau Visualisation \n",
        "[link text](https://public.tableau.com/profile/aakanksha.padmanabhan)"
      ]
    }
  ]
}